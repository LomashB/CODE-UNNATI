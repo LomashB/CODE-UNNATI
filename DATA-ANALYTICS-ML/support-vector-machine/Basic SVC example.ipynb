{
 "cells": [
  {
   "cell_type": "markdown",
   "id": "c547e3b5",
   "metadata": {},
   "source": [
    "# Given the data set implement SVC on the data set and calculate the accuracy"
   ]
  },
  {
   "cell_type": "markdown",
   "id": "c9d37122",
   "metadata": {},
   "source": [
    "### Imports"
   ]
  },
  {
   "cell_type": "code",
   "execution_count": 1,
   "id": "bdac9ff2",
   "metadata": {},
   "outputs": [],
   "source": [
    "import numpy as np\n",
    "import matplotlib.pyplot as plt\n",
    "from sklearn import datasets\n",
    "from sklearn.model_selection import train_test_split\n",
    "from sklearn.svm import SVC\n",
    "from sklearn.metrics import accuracy_score"
   ]
  },
  {
   "cell_type": "markdown",
   "id": "4ea66b67",
   "metadata": {},
   "source": [
    "### Generating synthetic dataset"
   ]
  },
  {
   "cell_type": "code",
   "execution_count": null,
   "id": "6f7cd91c",
   "metadata": {},
   "outputs": [],
   "source": [
    "# Generate a simple 2D dataset\n",
    "X, y = datasets.make_classification(n_samples=100, n_features=2, n_informative=2, n_redundant=0, random_state=42)"
   ]
  }
 ],
 "metadata": {
  "kernelspec": {
   "display_name": "Python 3 (ipykernel)",
   "language": "python",
   "name": "python3"
  },
  "language_info": {
   "codemirror_mode": {
    "name": "ipython",
    "version": 3
   },
   "file_extension": ".py",
   "mimetype": "text/x-python",
   "name": "python",
   "nbconvert_exporter": "python",
   "pygments_lexer": "ipython3",
   "version": "3.11.5"
  }
 },
 "nbformat": 4,
 "nbformat_minor": 5
}
